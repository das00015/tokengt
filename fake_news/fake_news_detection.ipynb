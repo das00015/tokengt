{
  "nbformat": 4,
  "nbformat_minor": 0,
  "metadata": {
    "colab": {
      "provenance": []
    },
    "kernelspec": {
      "name": "python3",
      "display_name": "Python 3"
    },
    "language_info": {
      "name": "python"
    }
  },
  "cells": [
    {
      "cell_type": "code",
      "execution_count": null,
      "metadata": {
        "colab": {
          "base_uri": "https://localhost:8080/"
        },
        "id": "Qvb4gd46B7Ht",
        "outputId": "d4560e66-26a6-4a9c-d3c0-8343ca652685"
      },
      "outputs": [
        {
          "output_type": "stream",
          "name": "stdout",
          "text": [
            "Torch vers:  1.13.1+cu116\n",
            "\u001b[2K     \u001b[90m━━━━━━━━━━━━━━━━━━━━━━━━━━━━━━━━━━━━━━━\u001b[0m \u001b[32m107.6/107.6 KB\u001b[0m \u001b[31m3.9 MB/s\u001b[0m eta \u001b[36m0:00:00\u001b[0m\n",
            "\u001b[?25h  Preparing metadata (setup.py) ... \u001b[?25l\u001b[?25hdone\n",
            "  Building wheel for torch-scatter (setup.py) ... \u001b[?25l\u001b[?25hdone\n",
            "\u001b[2K     \u001b[90m━━━━━━━━━━━━━━━━━━━━━━━━━━━━━━━━━━━━━━\u001b[0m \u001b[32m209.2/209.2 KB\u001b[0m \u001b[31m15.3 MB/s\u001b[0m eta \u001b[36m0:00:00\u001b[0m\n",
            "\u001b[?25h  Preparing metadata (setup.py) ... \u001b[?25l\u001b[?25hdone\n",
            "  Building wheel for torch-sparse (setup.py) ... \u001b[?25l\u001b[?25hdone\n",
            "  Installing build dependencies ... \u001b[?25l\u001b[?25hdone\n",
            "  Getting requirements to build wheel ... \u001b[?25l\u001b[?25hdone\n",
            "  Preparing metadata (pyproject.toml) ... \u001b[?25l\u001b[?25hdone\n",
            "  Building wheel for torch-geometric (pyproject.toml) ... \u001b[?25l\u001b[?25hdone\n"
          ]
        }
      ],
      "source": [
        "import torch\n",
        "vers = torch.__version__\n",
        "print(\"Torch vers: \", vers)\n",
        "\n",
        "# PyG installation\n",
        "!pip install -q torch-scatter -f https://pytorch-geometric.com/whl/torch-${TORCH}+${CUDA}.html\n",
        "!pip install -q torch-sparse -f https://pytorch-geometric.com/whl/torch-${TORCH}+${CUDA}.html\n",
        "!pip install -q git+https://github.com/rusty1s/pytorch_geometric.git\n",
        "\n",
        "import torch_geometric"
      ]
    },
    {
      "cell_type": "markdown",
      "source": [
        "## Dataset\n",
        "\n",
        "- Contains news propagation graphs extracted from Twitter\n",
        "- Source and raw data: https://github.com/KaiDMML/FakeNewsNet\n",
        "- Preprocessing: https://arxiv.org/pdf/2104.12259.pdf\n",
        "- feature=\"content\" --> Spacy Word2Vec + Profile features\n"
      ],
      "metadata": {
        "id": "RnoB5OWhCSU5"
      }
    },
    {
      "cell_type": "code",
      "source": [
        "from torch_geometric.datasets import UPFD\n",
        "train_data = UPFD(root=\".\", name=\"gossipcop\", feature=\"content\", split=\"train\")\n",
        "test_data = UPFD(root=\".\", name=\"gossipcop\", feature=\"content\", split=\"val\")\n",
        "print(\"Train Samples: \", len(train_data))\n",
        "print(\"Test Samples: \", len(test_data))"
      ],
      "metadata": {
        "colab": {
          "base_uri": "https://localhost:8080/"
        },
        "id": "zviOS5dtCHQI",
        "outputId": "866ea86e-a5fb-4a56-c23e-1454493f6f22"
      },
      "execution_count": null,
      "outputs": [
        {
          "output_type": "stream",
          "name": "stdout",
          "text": [
            "Train Samples:  1092\n",
            "Test Samples:  546\n"
          ]
        }
      ]
    },
    {
      "cell_type": "code",
      "source": [
        "?UPFD"
      ],
      "metadata": {
        "id": "mRge0iy5bFtF"
      },
      "execution_count": null,
      "outputs": []
    },
    {
      "cell_type": "code",
      "source": [
        "sample_id=1\n",
        "train_data[sample_id].edge_index"
      ],
      "metadata": {
        "colab": {
          "base_uri": "https://localhost:8080/"
        },
        "id": "A8bfWzYNbbRp",
        "outputId": "016c05e3-f950-4b52-f1cf-859faaa68958"
      },
      "execution_count": null,
      "outputs": [
        {
          "output_type": "execute_result",
          "data": {
            "text/plain": [
              "tensor([[  0,   0,   0,   0,   0,   0,   0,   0,   0,   0,   0,   0,   0,   0,\n",
              "           0,   0,   0,   0,   0,   0,   0,   0,   0,   0,   0,   0,   0,   0,\n",
              "           0,   0,   0,   0,   0,   0,   0,   0,   0,   0,  15,  15,  17,  17,\n",
              "          22,  22,  22,  22,  23,  26,  26,  26,  26,  26,  26,  26,  26,  27,\n",
              "          27,  27,  28,  28,  28,  28,  28,  28,  28,  28,  28,  28,  28,  28,\n",
              "          28,  28,  28,  28,  28,  28,  28,  28,  28,  28,  28,  28,  28,  28,\n",
              "          28,  28,  28,  28,  28,  28,  28,  28,  30,  34,  34,  38,  38,  38,\n",
              "          38,  39,  40,  57,  59,  65,  65,  65,  66,  68,  69,  77,  77,  79,\n",
              "          79,  80,  83,  83,  83,  83,  84, 101, 110, 115, 116, 117],\n",
              "        [  1,   2,   3,   4,   5,   6,   7,   8,   9,  10,  11,  12,  13,  14,\n",
              "          15,  16,  17,  18,  19,  20,  21,  22,  23,  24,  25,  26,  27,  28,\n",
              "          29,  30,  31,  32,  33,  34,  35,  36,  37,  38,  39,  40,  43,  44,\n",
              "          45,  46,  47,  48,  49,  50,  51,  52,  53,  54,  55,  56,  57,  59,\n",
              "          60,  61,  63,  64,  65,  66,  67,  68,  69,  70,  71,  72,  73,  74,\n",
              "          75,  76,  77,  78,  79,  80,  81,  82,  83,  84,  85,  86,  87,  88,\n",
              "          89,  90,  91,  92,  93,  94,  95,  96, 115, 119, 120, 121, 122, 123,\n",
              "         124,  41,  42,  58,  62,  97,  98,  99, 100, 101, 103, 104, 105, 106,\n",
              "         107, 108, 109, 110, 111, 112, 114, 102, 113, 116, 117, 118]])"
            ]
          },
          "metadata": {},
          "execution_count": 13
        }
      ]
    },
    {
      "cell_type": "code",
      "source": [
        "dir(train_data)"
      ],
      "metadata": {
        "colab": {
          "base_uri": "https://localhost:8080/"
        },
        "id": "FB6IHvVTZ_hm",
        "outputId": "3dc1b8ce-ac1d-4040-a817-d052781d592a"
      },
      "execution_count": null,
      "outputs": [
        {
          "output_type": "execute_result",
          "data": {
            "text/plain": [
              "['__abstractmethods__',\n",
              " '__add__',\n",
              " '__class__',\n",
              " '__class_getitem__',\n",
              " '__delattr__',\n",
              " '__dict__',\n",
              " '__dir__',\n",
              " '__doc__',\n",
              " '__eq__',\n",
              " '__format__',\n",
              " '__ge__',\n",
              " '__getattr__',\n",
              " '__getattribute__',\n",
              " '__getitem__',\n",
              " '__gt__',\n",
              " '__hash__',\n",
              " '__init__',\n",
              " '__init_subclass__',\n",
              " '__le__',\n",
              " '__len__',\n",
              " '__lt__',\n",
              " '__module__',\n",
              " '__ne__',\n",
              " '__new__',\n",
              " '__orig_bases__',\n",
              " '__parameters__',\n",
              " '__reduce__',\n",
              " '__reduce_ex__',\n",
              " '__repr__',\n",
              " '__setattr__',\n",
              " '__sizeof__',\n",
              " '__slots__',\n",
              " '__str__',\n",
              " '__subclasshook__',\n",
              " '__weakref__',\n",
              " '_abc_impl',\n",
              " '_data',\n",
              " '_data_list',\n",
              " '_download',\n",
              " '_indices',\n",
              " '_infer_num_classes',\n",
              " '_is_protocol',\n",
              " '_process',\n",
              " 'collate',\n",
              " 'copy',\n",
              " 'data',\n",
              " 'download',\n",
              " 'feature',\n",
              " 'get',\n",
              " 'get_summary',\n",
              " 'has_download',\n",
              " 'has_process',\n",
              " 'ids',\n",
              " 'index_select',\n",
              " 'indices',\n",
              " 'len',\n",
              " 'log',\n",
              " 'name',\n",
              " 'num_classes',\n",
              " 'num_edge_features',\n",
              " 'num_features',\n",
              " 'num_node_features',\n",
              " 'pre_filter',\n",
              " 'pre_transform',\n",
              " 'print_summary',\n",
              " 'process',\n",
              " 'processed_dir',\n",
              " 'processed_file_names',\n",
              " 'processed_paths',\n",
              " 'raw_dir',\n",
              " 'raw_file_names',\n",
              " 'raw_paths',\n",
              " 'root',\n",
              " 'shuffle',\n",
              " 'slices',\n",
              " 'to_datapipe',\n",
              " 'transform',\n",
              " 'url']"
            ]
          },
          "metadata": {},
          "execution_count": 15
        }
      ]
    },
    {
      "cell_type": "code",
      "source": [
        "train_data.data"
      ],
      "metadata": {
        "colab": {
          "base_uri": "https://localhost:8080/"
        },
        "id": "N37DH9D5aMHk",
        "outputId": "40db165e-5910-4db3-c7eb-0eba6ba8ef7f"
      },
      "execution_count": null,
      "outputs": [
        {
          "output_type": "stream",
          "name": "stderr",
          "text": [
            "/usr/local/lib/python3.9/dist-packages/torch_geometric/data/in_memory_dataset.py:157: UserWarning: It is not recommended to directly access the internal storage format `data` of an 'InMemoryDataset'. If you are absolutely certain what you are doing, access the internal storage via `InMemoryDataset._data` instead to suppress this warning. Alternatively, you can access stacked individual attributes of every graph via `dataset.{attr_name}`.\n",
            "  warnings.warn(msg)\n"
          ]
        },
        {
          "output_type": "execute_result",
          "data": {
            "text/plain": [
              "Data(x=[63482, 310], edge_index=[2, 62390], y=[1092])"
            ]
          },
          "metadata": {},
          "execution_count": 17
        }
      ]
    },
    {
      "cell_type": "code",
      "source": [
        "train_data.x.shape"
      ],
      "metadata": {
        "colab": {
          "base_uri": "https://localhost:8080/"
        },
        "id": "0runSXLGaWOn",
        "outputId": "2e39e553-4bed-4053-8916-13f841a0b0d2"
      },
      "execution_count": null,
      "outputs": [
        {
          "output_type": "execute_result",
          "data": {
            "text/plain": [
              "torch.Size([63482, 310])"
            ]
          },
          "metadata": {},
          "execution_count": 18
        }
      ]
    },
    {
      "cell_type": "code",
      "source": [
        "train_data.y.shape"
      ],
      "metadata": {
        "colab": {
          "base_uri": "https://localhost:8080/"
        },
        "id": "pD2Wi3kLaYI1",
        "outputId": "879966a2-ca09-453b-9d2b-9c7fe6b8ccfa"
      },
      "execution_count": null,
      "outputs": [
        {
          "output_type": "execute_result",
          "data": {
            "text/plain": [
              "torch.Size([1092])"
            ]
          },
          "metadata": {},
          "execution_count": 22
        }
      ]
    },
    {
      "cell_type": "code",
      "source": [
        "next(iter(train_data))"
      ],
      "metadata": {
        "colab": {
          "base_uri": "https://localhost:8080/"
        },
        "id": "GTNBq6kkbhuY",
        "outputId": "641dbab0-eb22-46e6-a3c1-0634a51d4a4d"
      },
      "execution_count": null,
      "outputs": [
        {
          "output_type": "execute_result",
          "data": {
            "text/plain": [
              "Data(x=[76, 310], edge_index=[2, 75], y=[1])"
            ]
          },
          "metadata": {},
          "execution_count": 25
        }
      ]
    },
    {
      "cell_type": "code",
      "source": [
        "next(iter(train_data)).y"
      ],
      "metadata": {
        "colab": {
          "base_uri": "https://localhost:8080/"
        },
        "id": "cLxp6XB2ccto",
        "outputId": "8cf28d7f-cae7-41f8-b747-c1699cf52866"
      },
      "execution_count": null,
      "outputs": [
        {
          "output_type": "execute_result",
          "data": {
            "text/plain": [
              "tensor([0])"
            ]
          },
          "metadata": {},
          "execution_count": 27
        }
      ]
    },
    {
      "cell_type": "code",
      "source": [
        "it = iter(train_data)\n",
        "next(it)\n",
        "next(it)\n",
        "s = next(it)"
      ],
      "metadata": {
        "id": "f9oKscqeclvk"
      },
      "execution_count": null,
      "outputs": []
    },
    {
      "cell_type": "code",
      "source": [
        "s.edge_index"
      ],
      "metadata": {
        "colab": {
          "base_uri": "https://localhost:8080/"
        },
        "id": "_16hojUOfZDy",
        "outputId": "548934cc-f171-463b-c4f8-254a46347b3b"
      },
      "execution_count": null,
      "outputs": [
        {
          "output_type": "execute_result",
          "data": {
            "text/plain": [
              "tensor([[0, 0, 0, 1, 1],\n",
              "        [1, 2, 3, 4, 5]])"
            ]
          },
          "metadata": {},
          "execution_count": 35
        }
      ]
    },
    {
      "cell_type": "code",
      "source": [
        "s.x"
      ],
      "metadata": {
        "colab": {
          "base_uri": "https://localhost:8080/"
        },
        "id": "U3YGxM93f9fx",
        "outputId": "1d90ba5b-130c-4bee-a8d6-4950b12e3b52"
      },
      "execution_count": null,
      "outputs": [
        {
          "output_type": "execute_result",
          "data": {
            "text/plain": [
              "tensor([[0.5170, 0.5350, 0.5372,  ..., 0.2603, 0.1250, 0.2500],\n",
              "        [0.5523, 0.5490, 0.5262,  ..., 0.1164, 0.0556, 0.2647],\n",
              "        [0.5076, 0.5370, 0.5431,  ..., 0.2055, 0.1667, 0.3088],\n",
              "        [0.5523, 0.5490, 0.5262,  ..., 0.1164, 0.0556, 0.2647],\n",
              "        [0.5170, 0.5350, 0.5372,  ..., 0.2603, 0.1250, 0.2500],\n",
              "        [0.4556, 0.5051, 0.5530,  ..., 0.6027, 0.2222, 0.1618]])"
            ]
          },
          "metadata": {},
          "execution_count": 36
        }
      ]
    },
    {
      "cell_type": "code",
      "source": [
        "sample_id = 0\n",
        "print(train_data[sample_id].x.shape)\n",
        "train_data[sample_id].x"
      ],
      "metadata": {
        "colab": {
          "base_uri": "https://localhost:8080/"
        },
        "id": "WdK1893xdoBZ",
        "outputId": "d40dab2e-f6c4-4574-eddc-76a08429f4c7"
      },
      "execution_count": null,
      "outputs": [
        {
          "output_type": "stream",
          "name": "stdout",
          "text": [
            "torch.Size([76, 310])\n"
          ]
        },
        {
          "output_type": "execute_result",
          "data": {
            "text/plain": [
              "tensor([[0.5100, 0.5259, 0.5432,  ..., 0.6794, 0.1175, 0.1534],\n",
              "        [0.4455, 0.5350, 0.5522,  ..., 0.0890, 0.1111, 0.1324],\n",
              "        [0.4417, 0.5409, 0.5583,  ..., 0.4658, 0.1667, 0.1765],\n",
              "        ...,\n",
              "        [0.5250, 0.5461, 0.5496,  ..., 0.8904, 0.1111, 0.0588],\n",
              "        [0.4677, 0.5249, 0.5637,  ..., 0.6233, 0.2222, 0.3529],\n",
              "        [0.5428, 0.5370, 0.5246,  ..., 0.7740, 0.1111, 0.2500]])"
            ]
          },
          "metadata": {},
          "execution_count": 30
        }
      ]
    },
    {
      "cell_type": "code",
      "source": [],
      "metadata": {
        "id": "EkQoCr_BdWAG"
      },
      "execution_count": null,
      "outputs": []
    },
    {
      "cell_type": "code",
      "source": [
        "!pip install networkx"
      ],
      "metadata": {
        "colab": {
          "base_uri": "https://localhost:8080/"
        },
        "id": "ibepUbFVbiER",
        "outputId": "7b2b977f-35e9-4e01-9da0-a06b1ce567e8"
      },
      "execution_count": null,
      "outputs": [
        {
          "output_type": "stream",
          "name": "stdout",
          "text": [
            "Looking in indexes: https://pypi.org/simple, https://us-python.pkg.dev/colab-wheels/public/simple/\n",
            "Requirement already satisfied: networkx in /usr/local/lib/python3.9/dist-packages (3.0)\n"
          ]
        }
      ]
    },
    {
      "cell_type": "code",
      "source": [
        "print(train_data[sample_id].x.shape)\n",
        "train_data[sample_id].x"
      ],
      "metadata": {
        "colab": {
          "base_uri": "https://localhost:8080/"
        },
        "id": "8ILxwqAJcDvh",
        "outputId": "086e9755-483e-4948-a6a2-c46469316fb8"
      },
      "execution_count": null,
      "outputs": [
        {
          "output_type": "stream",
          "name": "stdout",
          "text": [
            "torch.Size([125, 310])\n"
          ]
        },
        {
          "output_type": "execute_result",
          "data": {
            "text/plain": [
              "tensor([[0.5220, 0.5120, 0.4817,  ..., 0.6874, 0.1023, 0.1529],\n",
              "        [0.4610, 0.4544, 0.6279,  ..., 0.2055, 0.1667, 0.2500],\n",
              "        [0.4461, 0.4728, 0.4978,  ..., 0.8356, 0.0556, 0.0000],\n",
              "        ...,\n",
              "        [0.5574, 0.4934, 0.5588,  ..., 0.3562, 0.0556, 0.2647],\n",
              "        [0.5274, 0.5889, 0.4425,  ..., 0.9589, 0.1111, 0.1176],\n",
              "        [0.5220, 0.5120, 0.4817,  ..., 0.6874, 0.1023, 0.1529]])"
            ]
          },
          "metadata": {},
          "execution_count": 5
        }
      ]
    },
    {
      "cell_type": "code",
      "source": [
        "import pandas as pd\n",
        "labels = [data.y.item() for i, data in enumerate(train_data)]\n",
        "df = pd.DataFrame(labels, columns=[\"Labels\"])\n",
        "df[\"Labels\"].hist()"
      ],
      "metadata": {
        "colab": {
          "base_uri": "https://localhost:8080/",
          "height": 282
        },
        "id": "SMlrpzqlcGA-",
        "outputId": "a3f307e5-6dbc-418b-ef8b-f1846d840694"
      },
      "execution_count": null,
      "outputs": [
        {
          "output_type": "execute_result",
          "data": {
            "text/plain": [
              "<Axes: >"
            ]
          },
          "metadata": {},
          "execution_count": 6
        },
        {
          "output_type": "display_data",
          "data": {
            "text/plain": [
              "<Figure size 432x288 with 1 Axes>"
            ],
            "image/png": "[encoded data removed]"
          },
          "metadata": {
            "needs_background": "light"
          }
        }
      ]
    },
    {
      "cell_type": "code",
      "source": [
        "from torch_geometric.loader import DataLoader\n",
        "train_loader = DataLoader(train_data, batch_size=128, shuffle=True)\n",
        "test_loader = DataLoader(test_data, batch_size=128, shuffle=False)"
      ],
      "metadata": {
        "id": "yeF74cVIcG6v"
      },
      "execution_count": null,
      "outputs": []
    },
    {
      "cell_type": "code",
      "source": [
        "from torch_geometric.nn import global_max_pool as gmp\n",
        "from torch_geometric.nn import GATConv\n",
        "from torch.nn import Linear\n",
        "\n",
        "class GNN(torch.nn.Module):\n",
        "    def __init__(self, in_channels, hidden_channels, out_channels):\n",
        "        super().__init__()\n",
        "        \n",
        "        # Graph Convolutions\n",
        "        self.conv1 = GATConv(in_channels, hidden_channels)\n",
        "        self.conv2 = GATConv(hidden_channels, hidden_channels)\n",
        "        self.conv3 = GATConv(hidden_channels, hidden_channels)\n",
        "\n",
        "        # Readout\n",
        "        self.lin_news = Linear(in_channels, hidden_channels)\n",
        "        self.lin0 = Linear(hidden_channels, hidden_channels)\n",
        "        self.lin1 = Linear(2*hidden_channels, out_channels)\n",
        "\n",
        "    def forward(self, x, edge_index, batch):\n",
        "        # Graph Convolutions\n",
        "        h = self.conv1(x, edge_index).relu()\n",
        "        h = self.conv2(h, edge_index).relu()\n",
        "        h = self.conv3(h, edge_index).relu()\n",
        "\n",
        "        # Pooling\n",
        "        h = gmp(h, batch)\n",
        "\n",
        "        # Readout\n",
        "        h = self.lin0(h).relu()\n",
        "\n",
        "        # According to UPFD paper: Include raw word2vec embeddings of news \n",
        "        # This is done per graph in the batch\n",
        "        root = (batch[1:] - batch[:-1]).nonzero(as_tuple=False).view(-1)\n",
        "        root = torch.cat([root.new_zeros(1), root + 1], dim=0)\n",
        "        # root is e.g. [   0,   14,   94,  171,  230,  302, ... ]\n",
        "        news = x[root]\n",
        "        news = self.lin_news(news).relu()\n",
        "        \n",
        "        out = self.lin1(torch.cat([h, news], dim=-1))\n",
        "        return torch.sigmoid(out)\n",
        "\n",
        "GNN(train_data.num_features, 128, 1)"
      ],
      "metadata": {
        "colab": {
          "base_uri": "https://localhost:8080/"
        },
        "id": "61H0kDC-cIyZ",
        "outputId": "ad91d63f-1407-4406-e5a6-52d9153423dd"
      },
      "execution_count": null,
      "outputs": [
        {
          "output_type": "execute_result",
          "data": {
            "text/plain": [
              "GNN(\n",
              "  (conv1): GATConv(310, 128, heads=1)\n",
              "  (conv2): GATConv(128, 128, heads=1)\n",
              "  (conv3): GATConv(128, 128, heads=1)\n",
              "  (lin_news): Linear(in_features=310, out_features=128, bias=True)\n",
              "  (lin0): Linear(in_features=128, out_features=128, bias=True)\n",
              "  (lin1): Linear(in_features=256, out_features=1, bias=True)\n",
              ")"
            ]
          },
          "metadata": {},
          "execution_count": 8
        }
      ]
    },
    {
      "cell_type": "code",
      "source": [
        "from sklearn.metrics import accuracy_score, f1_score\n",
        "\n",
        "device = torch.device('cuda' if torch.cuda.is_available() else 'cpu')\n",
        "model = GNN(train_data.num_features, 128, 1).to(device)\n",
        "optimizer = torch.optim.Adam(model.parameters(), lr=0.01, weight_decay=0.01)\n",
        "loss_fnc = torch.nn.BCELoss()\n",
        "\n",
        "def train(epoch):\n",
        "    model.train()\n",
        "    total_loss = 0\n",
        "    for data in train_loader:\n",
        "        data = data.to(device)\n",
        "        optimizer.zero_grad()\n",
        "        out = model(data.x, data.edge_index, data.batch)\n",
        "        loss = loss_fnc(torch.reshape(out, (-1,)), data.y.float())\n",
        "        loss.backward()\n",
        "        optimizer.step()\n",
        "        total_loss += float(loss) * data.num_graphs\n",
        "    return total_loss / len(train_loader.dataset)\n",
        "\n",
        "@torch.no_grad()\n",
        "def test(epoch):\n",
        "    model.eval()\n",
        "    total_loss = 0\n",
        "    all_preds = []\n",
        "    all_labels = []\n",
        "    for data in test_loader:\n",
        "        data = data.to(device)\n",
        "        out = model(data.x, data.edge_index, data.batch)\n",
        "        loss = loss_fnc(torch.reshape(out, (-1,)), data.y.float())\n",
        "        total_loss += float(loss) * data.num_graphs\n",
        "        all_preds.append(torch.reshape(out, (-1,)))\n",
        "        all_labels.append(data.y.float())\n",
        "\n",
        "    # Calculate Metrics\n",
        "    accuracy, f1 = metrics(all_preds, all_labels)\n",
        "\n",
        "    return total_loss / len(test_loader.dataset), accuracy, f1\n",
        "\n",
        "\n",
        "def metrics(preds, gts):\n",
        "    preds = torch.round(torch.cat(preds))\n",
        "    gts = torch.cat(gts)\n",
        "    acc = accuracy_score(preds, gts)\n",
        "    f1 = f1_score(preds, gts)\n",
        "    return acc, f1"
      ],
      "metadata": {
        "id": "AD0WZRBfcOjE"
      },
      "execution_count": null,
      "outputs": []
    },
    {
      "cell_type": "code",
      "source": [
        "for epoch in range(40):\n",
        "    train_loss = train(epoch)\n",
        "    test_loss, test_acc, test_f1 = test(epoch)\n",
        "    print(f'Epoch: {epoch:02d} |  TrainLoss: {train_loss:.2f} | '\n",
        "          f'TestLoss: {test_loss:.2f} | TestAcc: {test_acc:.2f} | TestF1: {test_f1:.2f}')"
      ],
      "metadata": {
        "colab": {
          "base_uri": "https://localhost:8080/"
        },
        "id": "b3cKQooFcToe",
        "outputId": "cb80bfa5-cd4c-464d-fd0d-374f22ac1d3c"
      },
      "execution_count": null,
      "outputs": [
        {
          "output_type": "stream",
          "name": "stdout",
          "text": [
            "Epoch: 00 |  TrainLoss: 0.74 | TestLoss: 0.75 | TestAcc: 0.50 | TestF1: 0.00\n",
            "Epoch: 01 |  TrainLoss: 0.71 | TestLoss: 0.69 | TestAcc: 0.50 | TestF1: 0.00\n",
            "Epoch: 02 |  TrainLoss: 0.69 | TestLoss: 0.68 | TestAcc: 0.54 | TestF1: 0.14\n",
            "Epoch: 03 |  TrainLoss: 0.69 | TestLoss: 0.68 | TestAcc: 0.83 | TestF1: 0.85\n",
            "Epoch: 04 |  TrainLoss: 0.67 | TestLoss: 0.67 | TestAcc: 0.65 | TestF1: 0.47\n",
            "Epoch: 05 |  TrainLoss: 0.68 | TestLoss: 0.66 | TestAcc: 0.50 | TestF1: 0.67\n",
            "Epoch: 06 |  TrainLoss: 0.69 | TestLoss: 0.66 | TestAcc: 0.55 | TestF1: 0.18\n",
            "Epoch: 07 |  TrainLoss: 0.66 | TestLoss: 0.65 | TestAcc: 0.62 | TestF1: 0.40\n",
            "Epoch: 08 |  TrainLoss: 0.66 | TestLoss: 0.64 | TestAcc: 0.55 | TestF1: 0.20\n",
            "Epoch: 09 |  TrainLoss: 0.65 | TestLoss: 0.66 | TestAcc: 0.50 | TestF1: 0.02\n",
            "Epoch: 10 |  TrainLoss: 0.63 | TestLoss: 0.66 | TestAcc: 0.50 | TestF1: 0.67\n",
            "Epoch: 11 |  TrainLoss: 0.64 | TestLoss: 0.61 | TestAcc: 0.52 | TestF1: 0.67\n",
            "Epoch: 12 |  TrainLoss: 0.62 | TestLoss: 0.62 | TestAcc: 0.55 | TestF1: 0.20\n",
            "Epoch: 13 |  TrainLoss: 0.60 | TestLoss: 0.57 | TestAcc: 0.79 | TestF1: 0.73\n",
            "Epoch: 14 |  TrainLoss: 0.57 | TestLoss: 0.56 | TestAcc: 0.70 | TestF1: 0.77\n",
            "Epoch: 15 |  TrainLoss: 0.59 | TestLoss: 0.55 | TestAcc: 0.68 | TestF1: 0.76\n",
            "Epoch: 16 |  TrainLoss: 0.54 | TestLoss: 0.68 | TestAcc: 0.50 | TestF1: 0.67\n",
            "Epoch: 17 |  TrainLoss: 0.62 | TestLoss: 0.62 | TestAcc: 0.50 | TestF1: 0.67\n",
            "Epoch: 18 |  TrainLoss: 0.57 | TestLoss: 0.54 | TestAcc: 0.65 | TestF1: 0.47\n",
            "Epoch: 19 |  TrainLoss: 0.51 | TestLoss: 0.53 | TestAcc: 0.67 | TestF1: 0.51\n",
            "Epoch: 20 |  TrainLoss: 0.56 | TestLoss: 0.51 | TestAcc: 0.75 | TestF1: 0.80\n",
            "Epoch: 21 |  TrainLoss: 0.49 | TestLoss: 0.47 | TestAcc: 0.89 | TestF1: 0.90\n",
            "Epoch: 22 |  TrainLoss: 0.51 | TestLoss: 0.49 | TestAcc: 0.76 | TestF1: 0.81\n",
            "Epoch: 23 |  TrainLoss: 0.45 | TestLoss: 0.45 | TestAcc: 0.87 | TestF1: 0.88\n",
            "Epoch: 24 |  TrainLoss: 0.45 | TestLoss: 0.49 | TestAcc: 0.74 | TestF1: 0.79\n",
            "Epoch: 25 |  TrainLoss: 0.45 | TestLoss: 0.40 | TestAcc: 0.93 | TestF1: 0.93\n",
            "Epoch: 26 |  TrainLoss: 0.40 | TestLoss: 0.41 | TestAcc: 0.85 | TestF1: 0.83\n",
            "Epoch: 27 |  TrainLoss: 0.41 | TestLoss: 0.43 | TestAcc: 0.83 | TestF1: 0.86\n",
            "Epoch: 28 |  TrainLoss: 0.40 | TestLoss: 0.40 | TestAcc: 0.88 | TestF1: 0.89\n",
            "Epoch: 29 |  TrainLoss: 0.41 | TestLoss: 0.37 | TestAcc: 0.87 | TestF1: 0.86\n",
            "Epoch: 30 |  TrainLoss: 0.41 | TestLoss: 0.36 | TestAcc: 0.91 | TestF1: 0.91\n",
            "Epoch: 31 |  TrainLoss: 0.41 | TestLoss: 0.57 | TestAcc: 0.63 | TestF1: 0.43\n",
            "Epoch: 32 |  TrainLoss: 0.43 | TestLoss: 0.39 | TestAcc: 0.80 | TestF1: 0.76\n",
            "Epoch: 33 |  TrainLoss: 0.36 | TestLoss: 0.38 | TestAcc: 0.87 | TestF1: 0.88\n",
            "Epoch: 34 |  TrainLoss: 0.35 | TestLoss: 0.37 | TestAcc: 0.88 | TestF1: 0.89\n",
            "Epoch: 35 |  TrainLoss: 0.35 | TestLoss: 0.32 | TestAcc: 0.93 | TestF1: 0.93\n",
            "Epoch: 36 |  TrainLoss: 0.33 | TestLoss: 0.36 | TestAcc: 0.84 | TestF1: 0.81\n",
            "Epoch: 37 |  TrainLoss: 0.32 | TestLoss: 0.31 | TestAcc: 0.93 | TestF1: 0.93\n",
            "Epoch: 38 |  TrainLoss: 0.35 | TestLoss: 0.41 | TestAcc: 0.77 | TestF1: 0.70\n",
            "Epoch: 39 |  TrainLoss: 0.40 | TestLoss: 0.31 | TestAcc: 0.92 | TestF1: 0.93\n"
          ]
        }
      ]
    },
    {
      "cell_type": "code",
      "source": [
        "for data in test_loader:\n",
        "    data = data.to(device)\n",
        "    pred = model(data.x, data.edge_index, data.batch)\n",
        "    df = pd.DataFrame()\n",
        "    df[\"pred_logit\"] = pred.detach().numpy()[:,0]\n",
        "    df[\"pred\"] = torch.round(pred).detach().numpy()[:,0]\n",
        "    df[\"true\"] = data.y.numpy()\n",
        "    print(df.head(10))\n",
        "    break"
      ],
      "metadata": {
        "colab": {
          "base_uri": "https://localhost:8080/"
        },
        "id": "RKh1ojbgcYRP",
        "outputId": "c2a49b32-dd9b-4333-a673-3f26814833a4"
      },
      "execution_count": null,
      "outputs": [
        {
          "output_type": "stream",
          "name": "stdout",
          "text": [
            "   pred_logit  pred  true\n",
            "0    0.848001   1.0     1\n",
            "1    0.719532   1.0     1\n",
            "2    0.419808   0.0     0\n",
            "3    0.728294   1.0     1\n",
            "4    0.139804   0.0     0\n",
            "5    0.390725   0.0     0\n",
            "6    0.304375   0.0     0\n",
            "7    0.916404   1.0     1\n",
            "8    0.147848   0.0     0\n",
            "9    0.292413   0.0     0\n"
          ]
        }
      ]
    }
  ]
}